{
 "cells": [
  {
   "cell_type": "code",
   "execution_count": 2,
   "id": "f1cd33d8",
   "metadata": {},
   "outputs": [],
   "source": [
    "import os\n",
    "import numpy as np\n",
    "from tensorflow.keras.preprocessing.image import ImageDataGenerator"
   ]
  },
  {
   "cell_type": "code",
   "execution_count": 4,
   "id": "c7aeaad0",
   "metadata": {},
   "outputs": [],
   "source": [
    "from tensorflow.keras.applications import VGG16"
   ]
  },
  {
   "cell_type": "code",
   "execution_count": 5,
   "id": "20ef3c31",
   "metadata": {},
   "outputs": [],
   "source": [
    "conv_base = VGG16(weights='imagenet',\n",
    "                 include_top= False,\n",
    "                 input_shape=(150, 150, 3))"
   ]
  },
  {
   "cell_type": "code",
   "execution_count": 6,
   "id": "52d565d9",
   "metadata": {},
   "outputs": [
    {
     "name": "stdout",
     "output_type": "stream",
     "text": [
      "Found 2000 images belonging to 2 classes.\n",
      "Found 1000 images belonging to 2 classes.\n",
      "Found 1000 images belonging to 2 classes.\n"
     ]
    }
   ],
   "source": [
    "base_dir = 'C:/Users/ikram/Desktop/CNN_working/cats_and_dogs_small'\n",
    "train_dir = os.path.join(base_dir, 'train')\n",
    "validation_dir = os.path.join(base_dir, 'validation')\n",
    "test_dir = os.path.join(base_dir, 'test')\n",
    "\n",
    "datagen = ImageDataGenerator(rescale=1./255)\n",
    "batch_size = 20\n",
    "\n",
    "def extract_features(directory, sample_count):\n",
    "    features = np.zeros(shape=(sample_count, 4, 4, 512))\n",
    "    labels = np.zeros(shape=(sample_count))\n",
    "    generator = datagen.flow_from_directory(\n",
    "        directory,\n",
    "        target_size=(150, 150),\n",
    "        batch_size=batch_size,\n",
    "        class_mode='binary')\n",
    "    i = 0\n",
    "    for inputs_batch, labels_batch in generator:\n",
    "        features_batch = conv_base.predict(inputs_batch)\n",
    "        features[i * batch_size : (i + 1) * batch_size] = features_batch\n",
    "        labels[i * batch_size : (i + 1) * batch_size] = labels_batch\n",
    "        i += 1\n",
    "        if i * batch_size >= sample_count:\n",
    "            break\n",
    "    return features, labels\n",
    "\n",
    "train_features, train_labels = extract_features(train_dir, 2000)\n",
    "validation_features, validation_labels = extract_features(validation_dir, 1000)\n",
    "test_features, test_labels = extract_features(test_dir, 1000)"
   ]
  },
  {
   "cell_type": "code",
   "execution_count": 7,
   "id": "a7cf4ab6",
   "metadata": {},
   "outputs": [],
   "source": [
    "train_features = np.reshape(train_features, (2000, 4 * 4 * 512))\n",
    "validation_features = np.reshape(validation_features, (1000, 4 * 4 * 512))\n",
    "test_features = np.reshape(test_features, (1000, 4 * 4 * 512))"
   ]
  },
  {
   "cell_type": "code",
   "execution_count": 8,
   "id": "862290fc",
   "metadata": {
    "scrolled": true
   },
   "outputs": [
    {
     "name": "stdout",
     "output_type": "stream",
     "text": [
      "Epoch 1/30\n",
      "100/100 [==============================] - 3s 31ms/step - loss: 0.5961 - acc: 0.6830 - val_loss: 0.4622 - val_acc: 0.8230\n",
      "Epoch 2/30\n",
      "100/100 [==============================] - 3s 30ms/step - loss: 0.4406 - acc: 0.8090 - val_loss: 0.3797 - val_acc: 0.8580\n",
      "Epoch 3/30\n",
      "100/100 [==============================] - 3s 31ms/step - loss: 0.3640 - acc: 0.8455 - val_loss: 0.3384 - val_acc: 0.8610\n",
      "Epoch 4/30\n",
      "100/100 [==============================] - 3s 29ms/step - loss: 0.3252 - acc: 0.8650 - val_loss: 0.3116 - val_acc: 0.8720\n",
      "Epoch 5/30\n",
      "100/100 [==============================] - 3s 31ms/step - loss: 0.2863 - acc: 0.8800 - val_loss: 0.2987 - val_acc: 0.8750\n",
      "Epoch 6/30\n",
      "100/100 [==============================] - 3s 31ms/step - loss: 0.2698 - acc: 0.8900 - val_loss: 0.2819 - val_acc: 0.8920\n",
      "Epoch 7/30\n",
      "100/100 [==============================] - 3s 33ms/step - loss: 0.2615 - acc: 0.8895 - val_loss: 0.2684 - val_acc: 0.9010\n",
      "Epoch 8/30\n",
      "100/100 [==============================] - 3s 32ms/step - loss: 0.2314 - acc: 0.9065 - val_loss: 0.2621 - val_acc: 0.8920\n",
      "Epoch 9/30\n",
      "100/100 [==============================] - 3s 32ms/step - loss: 0.2202 - acc: 0.9245 - val_loss: 0.2547 - val_acc: 0.9020\n",
      "Epoch 10/30\n",
      "100/100 [==============================] - 3s 30ms/step - loss: 0.2053 - acc: 0.9265 - val_loss: 0.2584 - val_acc: 0.8940\n",
      "Epoch 11/30\n",
      "100/100 [==============================] - 3s 30ms/step - loss: 0.1993 - acc: 0.9335 - val_loss: 0.2542 - val_acc: 0.8930\n",
      "Epoch 12/30\n",
      "100/100 [==============================] - 3s 31ms/step - loss: 0.1855 - acc: 0.9320 - val_loss: 0.2451 - val_acc: 0.9020\n",
      "Epoch 13/30\n",
      "100/100 [==============================] - 3s 33ms/step - loss: 0.1771 - acc: 0.9320 - val_loss: 0.2425 - val_acc: 0.9010\n",
      "Epoch 14/30\n",
      "100/100 [==============================] - 3s 30ms/step - loss: 0.1723 - acc: 0.9410 - val_loss: 0.2400 - val_acc: 0.9020\n",
      "Epoch 15/30\n",
      "100/100 [==============================] - 3s 30ms/step - loss: 0.1654 - acc: 0.9405 - val_loss: 0.2406 - val_acc: 0.9030\n",
      "Epoch 16/30\n",
      "100/100 [==============================] - 3s 30ms/step - loss: 0.1533 - acc: 0.9425 - val_loss: 0.2392 - val_acc: 0.9070\n",
      "Epoch 17/30\n",
      "100/100 [==============================] - 3s 31ms/step - loss: 0.1521 - acc: 0.9455 - val_loss: 0.2384 - val_acc: 0.9050\n",
      "Epoch 18/30\n",
      "100/100 [==============================] - 3s 32ms/step - loss: 0.1447 - acc: 0.9495 - val_loss: 0.2358 - val_acc: 0.9050\n",
      "Epoch 19/30\n",
      "100/100 [==============================] - 3s 30ms/step - loss: 0.1331 - acc: 0.9590 - val_loss: 0.2455 - val_acc: 0.8940\n",
      "Epoch 20/30\n",
      "100/100 [==============================] - 3s 30ms/step - loss: 0.1318 - acc: 0.9575 - val_loss: 0.2357 - val_acc: 0.9030\n",
      "Epoch 21/30\n",
      "100/100 [==============================] - 3s 29ms/step - loss: 0.1264 - acc: 0.9585 - val_loss: 0.2335 - val_acc: 0.9080\n",
      "Epoch 22/30\n",
      "100/100 [==============================] - 3s 29ms/step - loss: 0.1243 - acc: 0.9625 - val_loss: 0.2474 - val_acc: 0.8970\n",
      "Epoch 23/30\n",
      "100/100 [==============================] - 3s 31ms/step - loss: 0.1248 - acc: 0.9575 - val_loss: 0.2440 - val_acc: 0.8980\n",
      "Epoch 24/30\n",
      "100/100 [==============================] - 3s 30ms/step - loss: 0.1134 - acc: 0.9620 - val_loss: 0.2339 - val_acc: 0.9080\n",
      "Epoch 25/30\n",
      "100/100 [==============================] - 3s 29ms/step - loss: 0.1084 - acc: 0.9660 - val_loss: 0.2346 - val_acc: 0.9070\n",
      "Epoch 26/30\n",
      "100/100 [==============================] - 3s 29ms/step - loss: 0.1041 - acc: 0.9670 - val_loss: 0.2353 - val_acc: 0.9060\n",
      "Epoch 27/30\n",
      "100/100 [==============================] - 3s 29ms/step - loss: 0.0988 - acc: 0.9700 - val_loss: 0.2403 - val_acc: 0.9020\n",
      "Epoch 28/30\n",
      "100/100 [==============================] - 3s 31ms/step - loss: 0.0970 - acc: 0.9735 - val_loss: 0.2367 - val_acc: 0.9070\n",
      "Epoch 29/30\n",
      "100/100 [==============================] - 3s 32ms/step - loss: 0.0970 - acc: 0.9680 - val_loss: 0.2456 - val_acc: 0.8990\n",
      "Epoch 30/30\n",
      "100/100 [==============================] - 3s 31ms/step - loss: 0.0914 - acc: 0.9715 - val_loss: 0.2370 - val_acc: 0.9080\n"
     ]
    }
   ],
   "source": [
    "from keras import models\n",
    "from keras import layers\n",
    "from keras import optimizers\n",
    "\n",
    "model = models.Sequential()\n",
    "model.add(layers.Dense(256, activation='relu', input_dim=4 * 4 * 512))\n",
    "model.add(layers.Dropout(0.5))\n",
    "model.add(layers.Dense(1, activation='sigmoid'))\n",
    "\n",
    "model.compile(optimizer=optimizers.RMSprop(lr=2e-5),\n",
    "              loss='binary_crossentropy',\n",
    "              metrics=['acc'])\n",
    "\n",
    "history = model.fit(train_features, train_labels,\n",
    "epochs=30,\n",
    "batch_size=20,\n",
    "validation_data=(validation_features, validation_labels))"
   ]
  },
  {
   "cell_type": "code",
   "execution_count": 9,
   "id": "8ba1924e",
   "metadata": {
    "scrolled": true
   },
   "outputs": [
    {
     "data": {
      "image/png": "[encoded data removed]",
      "text/plain": [
       "<Figure size 432x288 with 1 Axes>"
      ]
     },
     "metadata": {
      "needs_background": "light"
     },
     "output_type": "display_data"
    },
    {
     "data": {
      "image/png": "[encoded data removed]",
      "text/plain": [
       "<Figure size 432x288 with 1 Axes>"
      ]
     },
     "metadata": {
      "needs_background": "light"
     },
     "output_type": "display_data"
    }
   ],
   "source": [
    "import matplotlib.pyplot as plt\n",
    "acc = history.history['acc']\n",
    "val_acc = history.history['val_acc']\n",
    "loss = history.history['loss']\n",
    "val_loss = history.history['val_loss']\n",
    "\n",
    "epochs = range(1, len(acc) + 1)\n",
    "\n",
    "plt.plot(epochs, acc, 'bo', label='Training acc')\n",
    "plt.plot(epochs, val_acc, 'b', label='Validation acc')\n",
    "plt.title('Training and validation accuracy')\n",
    "plt.legend()\n",
    "\n",
    "plt.figure()\n",
    "\n",
    "plt.plot(epochs, loss, 'bo', label='Training loss')\n",
    "plt.plot(epochs, val_loss, 'b', label='Validation loss')\n",
    "plt.title('Training and validation loss')\n",
    "plt.legend()\n",
    "plt.show()"
   ]
  },
  {
   "cell_type": "code",
   "execution_count": null,
   "id": "0123fb17",
   "metadata": {},
   "outputs": [],
   "source": []
  }
 ],
 "metadata": {
  "kernelspec": {
   "display_name": "Python 3 (ipykernel)",
   "language": "python",
   "name": "python3"
  },
  "language_info": {
   "codemirror_mode": {
    "name": "ipython",
    "version": 3
   },
   "file_extension": ".py",
   "mimetype": "text/x-python",
   "name": "python",
   "nbconvert_exporter": "python",
   "pygments_lexer": "ipython3",
   "version": "3.8.11"
  }
 },
 "nbformat": 4,
 "nbformat_minor": 5
}
